{
 "cells": [
  {
   "cell_type": "code",
   "execution_count": 21,
   "metadata": {},
   "outputs": [],
   "source": [
    "from tqdm import tqdm"
   ]
  },
  {
   "cell_type": "code",
   "execution_count": 28,
   "metadata": {},
   "outputs": [
    {
     "data": {
      "text/plain": [
       "-0.3448965373944803"
      ]
     },
     "execution_count": 28,
     "metadata": {},
     "output_type": "execute_result"
    }
   ],
   "source": [
    "np.log10(halos['GroupSFR'][fossil1[42]]) #o 65"
   ]
  },
  {
   "cell_type": "code",
   "execution_count": 30,
   "metadata": {},
   "outputs": [
    {
     "data": {
      "text/plain": [
       "11.838187805747749"
      ]
     },
     "execution_count": 30,
     "metadata": {},
     "output_type": "execute_result"
    }
   ],
   "source": [
    "np.log10(halos['GroupMassType'][fossil1[42],4])/0.67 +10"
   ]
  },
  {
   "cell_type": "code",
   "execution_count": 41,
   "metadata": {},
   "outputs": [],
   "source": [
    "sstarforming = []\n",
    "Nsstarforming = []\n",
    "stellarmass = []\n",
    "Nstellarmass = []\n",
    "\n",
    "for i in range(len(fossil1)):\n",
    "    a = np.log10(halos['GroupSFR'][fossil1[i]])/(np.log10(halos['GroupMassType'][fossil1[i],4])/0.67 + 10)\n",
    "    sstarforming.append(a)\n",
    "\n",
    "for i in range(len(nonfossil)):\n",
    "    b = np.log10(halos['GroupSFR'][nonfossil[i]])/(np.log10(halos['GroupMassType'][nonfossil[i],4])/0.67 + 10)\n",
    "    Nsstarforming.append(b)"
   ]
  },
  {
   "cell_type": "code",
   "execution_count": 42,
   "metadata": {},
   "outputs": [
    {
     "data": {
      "text/plain": [
       "-0.05121896427319788"
      ]
     },
     "execution_count": 42,
     "metadata": {},
     "output_type": "execute_result"
    }
   ],
   "source": [
    "min(sstarforming)"
   ]
  },
  {
   "cell_type": "code",
   "execution_count": 33,
   "metadata": {},
   "outputs": [],
   "source": [
    "mediansSFR = np.median(sstarforming)\n",
    "nmedianNsSFR = np.median(Nsstarforming)"
   ]
  },
  {
   "cell_type": "code",
   "execution_count": 34,
   "metadata": {},
   "outputs": [],
   "source": [
    "weight_fossil = np.ones_like(sstarforming)/float(len(fossil1))\n",
    "weight_nonfossil = np.ones_like(Nsstarforming)/float(len(nonfossil))\n",
    "bins = np.arange(0,1,0.05)"
   ]
  },
  {
   "cell_type": "code",
   "execution_count": 36,
   "metadata": {},
   "outputs": [
    {
     "data": {
      "text/plain": [
       "<matplotlib.legend.Legend at 0x7f4079689e48>"
      ]
     },
     "execution_count": 36,
     "metadata": {},
     "output_type": "execute_result"
    },
    {
     "data": {
      "image/png": "[encoded data removed]",
      "text/plain": [
       "<Figure size 504x504 with 1 Axes>"
      ]
     },
     "metadata": {
      "needs_background": "light"
     },
     "output_type": "display_data"
    }
   ],
   "source": [
    "plt.figure(figsize=(7,7))\n",
    "plt.title('tuki', fontsize=17)\n",
    "\n",
    "plt.ylabel('N', fontsize=15)\n",
    "plt.xlabel('sSFR for clusters',fontsize=15)\n",
    "plt.hist([Nsstarforming, sstarforming], bins=20, color = ['blue', 'orange'], rwidth=0.9, alpha=0.5, label=['Non fossil', 'fossil'], weights = [weight_nonfossil, weight_fossil])\n",
    "\n",
    "#plt.hist(Nfracblue, bins=bins, color = 'blue', rwidth=0.9, alpha=0.5, label='Non fossil', density=True, stacked=True)\n",
    "#plt.hist(fracblue, bins=bins, color = 'orange', rwidth=0.9, alpha=0.5, label='Fossil', density=True, stacked=True)\n",
    "plt.axvline(mediansSFR, color='orange', linestyle = '--', label='Median sSFR fossil')\n",
    "plt.axvline(nmedianNsSFR, color='blue', linestyle = '--', label='Median sSFR non fossil')\n",
    "plt.legend(loc='upper right', fontsize=12)\n",
    "\n",
    "#plt.axvline(linea2, color='black')\n",
    "#plt.axvline(quart21, color='black', linestyle = '--')\n",
    "#plt.axvline(quart22, color='black', linestyle = '--')\n",
    "\n",
    "#plt.savefig('bluefractionhistcomparison.jpg')"
   ]
  }
 ],
 "metadata": {
  "kernelspec": {
   "display_name": "Python 3",
   "language": "python",
   "name": "python3"
  },
  "language_info": {
   "codemirror_mode": {
    "name": "ipython",
    "version": 3
   },
   "file_extension": ".py",
   "mimetype": "text/x-python",
   "name": "python",
   "nbconvert_exporter": "python",
   "pygments_lexer": "ipython3",
   "version": "3.6.7"
  }
 },
 "nbformat": 4,
 "nbformat_minor": 2
}

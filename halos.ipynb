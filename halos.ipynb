{
 "cells": [
  {
   "cell_type": "code",
   "execution_count": 1,
   "metadata": {},
   "outputs": [],
   "source": [
    "import illustris_python as il\n",
    "import numpy as np\n",
    "import matplotlib.pyplot as plt\n",
    "from scipy.stats import binned_statistic_2d\n",
    "from astropy.table import Table\n",
    "from astropy.table import QTable\n",
    "import numpy.ma as ma\n",
    "import pandas as pd"
   ]
  },
  {
   "cell_type": "code",
   "execution_count": 2,
   "metadata": {},
   "outputs": [],
   "source": [
    "basePath = '/home/tnguser/sims.TNG/TNG100-1/output'"
   ]
  },
  {
   "cell_type": "code",
   "execution_count": 3,
   "metadata": {},
   "outputs": [],
   "source": [
    "fields = ['GroupFirstSub','Group_M_Crit200', 'Group_R_Crit200', 'GroupVel', 'GroupSFR', 'GroupCM', 'GroupMassType']\n",
    "#z=0 group catalogs (snapshot 99)\n",
    "halos = il.groupcat.loadHalos(basePath, 99, fields=fields)"
   ]
  },
  {
   "cell_type": "raw",
   "metadata": {},
   "source": [
    "smass = np.log10(subhalos['Masstype'][:,4]/h) +10\n",
    "spos = subhalos['SubhaloPos']\n",
    "phot = subhalos['SubhaloStellarPhotometrics']\n",
    "ind_Gal = np.nonzero([  (smass > 9)&(spos < ñaña)&(phot[:,4] > 17)])[0]\n",
    "\n",
    "smasss[ind_Gal]"
   ]
  },
  {
   "cell_type": "code",
   "execution_count": 4,
   "metadata": {},
   "outputs": [
    {
     "name": "stderr",
     "output_type": "stream",
     "text": [
      "/opt/conda/lib/python3.6/site-packages/ipykernel_launcher.py:2: RuntimeWarning: divide by zero encountered in log10\n",
      "  \n"
     ]
    }
   ],
   "source": [
    "#fofmass = np.log10(halos['Group_M_Crit200']/0.6774)+10\n",
    "IDfof = np.where((np.log10(halos['Group_M_Crit200']/0.6774)+10 > 13))"
   ]
  },
  {
   "cell_type": "code",
   "execution_count": 5,
   "metadata": {},
   "outputs": [
    {
     "name": "stdout",
     "output_type": "stream",
     "text": [
      "(182,)\n"
     ]
    }
   ],
   "source": [
    "print(np.shape(np.log10(halos['Group_M_Crit200'][IDfof]/0.6774)+10))"
   ]
  },
  {
   "cell_type": "code",
   "execution_count": 6,
   "metadata": {},
   "outputs": [],
   "source": [
    "candidatesmass = np.log10(halos['Group_M_Crit200'][IDfof]/0.6774)+10\n",
    "candidatesubfirst = halos['GroupFirstSub'][IDfof[0]]"
   ]
  },
  {
   "cell_type": "code",
   "execution_count": 82,
   "metadata": {},
   "outputs": [
    {
     "data": {
      "image/png": "[encoded data removed]",
      "text/plain": [
       "<Figure size 720x360 with 1 Axes>"
      ]
     },
     "metadata": {
      "needs_background": "light"
     },
     "output_type": "display_data"
    }
   ],
   "source": [
    "plt.figure(figsize=(10,5))\n",
    "plt.hist(candidatesmass, color='pink', rwidth=0.8, bins=20)\n",
    "plt.title('Virial masses for the principal sample',fontsize=20)\n",
    "plt.xlabel('Log $M_{\\odot}$', fontsize=15)\n",
    "plt.ylabel('Number of halos', fontsize=15)\n",
    "plt.tick_params(axis='x',direction='in',top=True)\n",
    "plt.tick_params(axis='y', direction='in', right=True)\n",
    "#plt.show()\n",
    "plt.savefig('allthedata.jpg')"
   ]
  },
  {
   "cell_type": "markdown",
   "metadata": {},
   "source": [
    "# subhalos"
   ]
  },
  {
   "cell_type": "code",
   "execution_count": 8,
   "metadata": {},
   "outputs": [],
   "source": [
    "fields2 = ['SubhaloLen','SubhaloFlag','SubhaloMass','SubhaloSFRinRad','SubhaloGrNr', 'SubhaloMassType','SubhaloStellarPhotometrics', 'SubhaloMassInRadType', 'SubhaloPos']\n",
    "#cambiar la masa total por la masa estelar que deberia estar en el array de masstype\n",
    "snapNum = 99\n",
    "subhalos = il.groupcat.loadSubhalos(basePath, snapNum, fields=fields2)"
   ]
  },
  {
   "cell_type": "code",
   "execution_count": 9,
   "metadata": {},
   "outputs": [
    {
     "name": "stderr",
     "output_type": "stream",
     "text": [
      "/opt/conda/lib/python3.6/site-packages/ipykernel_launcher.py:1: RuntimeWarning: divide by zero encountered in log10\n",
      "  \"\"\"Entry point for launching an IPython kernel.\n"
     ]
    }
   ],
   "source": [
    "IDshstellarmasscondition = np.where(((np.log10((subhalos['SubhaloMassType'][:,4])/0.6774)+10)>9.5) & (subhalos['SubhaloFlag'] !=0))[0]"
   ]
  },
  {
   "cell_type": "code",
   "execution_count": 10,
   "metadata": {},
   "outputs": [
    {
     "data": {
      "text/plain": [
       "array([12.56885675, 11.74724996, 11.79736423, ...,  9.73481059,\n",
       "        9.60495348,  9.548693  ])"
      ]
     },
     "execution_count": 10,
     "metadata": {},
     "output_type": "execute_result"
    }
   ],
   "source": [
    "np.log10((subhalos['SubhaloMassType'][IDshstellarmasscondition,4])/0.6774)+10"
   ]
  },
  {
   "cell_type": "code",
   "execution_count": 11,
   "metadata": {},
   "outputs": [],
   "source": [
    "IDsubhaloshalos = halos['GroupFirstSub'][IDfof]"
   ]
  },
  {
   "cell_type": "code",
   "execution_count": 12,
   "metadata": {},
   "outputs": [],
   "source": [
    "SUBHALOS = np.isin(IDshstellarmasscondition, halos['GroupFirstSub'][IDfof])\n",
    "HALOS = np.isin(halos['GroupFirstSub'][IDfof], IDshstellarmasscondition)"
   ]
  },
  {
   "cell_type": "code",
   "execution_count": 13,
   "metadata": {},
   "outputs": [],
   "source": [
    "#np.set_printoptions(threshold=np.inf)\n",
    "#print(massi)\n",
    "#massiveSh = IDsubhaloshalos[SUBHALOS]"
   ]
  },
  {
   "cell_type": "code",
   "execution_count": 14,
   "metadata": {},
   "outputs": [],
   "source": [
    "#subhalos (diccionario con la importacion)\n",
    "#IDsubhalosstars (ID de los subhalos con masa_estelar > 9.5)\n",
    "\n",
    "listadelistas = []\n",
    "for i in range(len(IDfof[0])):\n",
    "    listadelistas.append([])\n",
    "\n",
    "for i in range(len(IDfof[0])):\n",
    "    groupnumber = IDfof[0][i]\n",
    "    #for i in range(subhalos['count']):\n",
    "    #    if subhalos['SubhaloGrNr'][i] == groupnumber and i not in listadelistas:\n",
    "    #        listadelistas[i].append(i)\n",
    "    for util in IDshstellarmasscondition:\n",
    "        if subhalos['SubhaloGrNr'][util] == groupnumber:\n",
    "            listadelistas[i].append(util)\n",
    "            \n",
    "groups = [IDfof, listadelistas]\n"
   ]
  }
 ],
 "metadata": {
  "kernelspec": {
   "display_name": "Python 3",
   "language": "python",
   "name": "python3"
  },
  "language_info": {
   "codemirror_mode": {
    "name": "ipython",
    "version": 3
   },
   "file_extension": ".py",
   "mimetype": "text/x-python",
   "name": "python",
   "nbconvert_exporter": "python",
   "pygments_lexer": "ipython3",
   "version": "3.6.7"
  }
 },
 "nbformat": 4,
 "nbformat_minor": 2
}

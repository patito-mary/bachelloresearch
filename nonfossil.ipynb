{
 "cells": [
  {
   "cell_type": "code",
   "execution_count": null,
   "metadata": {},
   "outputs": [],
   "source": [
    "from scipy.stats import gaussian_kde"
   ]
  },
  {
   "cell_type": "code",
   "execution_count": null,
   "metadata": {},
   "outputs": [],
   "source": [
    "#kernel clusters for nonfossil group nwn\n",
    "red = []\n",
    "blue = []\n",
    "color = []\n",
    "for i in range(len(nonfossil)):\n",
    "    red.append([])\n",
    "    blue.append([])\n",
    "    color.append([])\n",
    "\n",
    "for i in range(len(nonfossil)):\n",
    "    group = len(groups[1][nonfossil[i]])\n",
    "    #print(group)\n",
    "    for subhalo in range(group):\n",
    "        #print(groups[1][fossil1[subhalo]])\n",
    "        #this calculate the color\n",
    "        #color[i][subhalo] = subhalos['SubhaloStellarPhotometrics'][:,5][groups[1][fossil1[i]][subhalo]] - subhalos['SubhaloStellarPhotometrics'][:,6][groups[1][fossil1[i]][subhalo]]\n",
    "        color[i].append(subhalos['SubhaloStellarPhotometrics'][:,5][groups[1][nonfossil[i]][subhalo]] - subhalos['SubhaloStellarPhotometrics'][:,6][groups[1][nonfossil[i]][subhalo]])\n",
    "        #y[subhalo] = subhalos['SubhaloStellarPhotometrics'][:,5][group] - subhalos['SubhaloStellarPhotometrics'][:,6][group]\n",
    "        #print(y[subhalo]>0.3)\n",
    "        #print(f'color: {y[subhalo]}')\n",
    "        if color[i][subhalo]>=0.3:\n",
    "            #print('a')\n",
    "            red[i].append(color[i][subhalo])\n",
    "        else: \n",
    "            #print('b')\n",
    "            blue[i].append(color[i][subhalo])"
   ]
  },
  {
   "cell_type": "code",
   "execution_count": null,
   "metadata": {},
   "outputs": [],
   "source": [
    "frac1 = []\n",
    "for i in range(len(nonfossil)):\n",
    "    frac1.append(len(blue[i])/(len(red[i])+len(blue[i])))\n",
    "    \n",
    "linea1 = np.median(frac1)\n",
    "quart11 = np.quantile(frac1,0.25)\n",
    "quart12 = np.quantile(frac1,0.75)\n"
   ]
  },
  {
   "cell_type": "code",
   "execution_count": null,
   "metadata": {},
   "outputs": [],
   "source": [
    "plt.figure(figsize=(7,7))\n",
    "plt.title('Blue fraction for non fossil groups')\n",
    "\n",
    "plt.ylabel('N')\n",
    "plt.xlabel('Blue fraction for each group')\n",
    "plt.hist(frac1, bins=20, color = \"blue\", rwidth=0.9)\n",
    "plt.axvline(linea1, color='black')\n",
    "plt.axvline(quart11, color='black', linestyle='--')\n",
    "plt.axvline(quart12, color='black', linestyle='--')\n",
    "\n",
    "plt.savefig('NFbluefractionhist.jpg')"
   ]
  },
  {
   "cell_type": "code",
   "execution_count": null,
   "metadata": {},
   "outputs": [],
   "source": [
    "frac2 = []\n",
    "for i in range(len(nonfossil)):\n",
    "    frac2.append(len(red[i])/(len(red[i])+len(blue[i])))\n",
    "    \n",
    "linea2 = np.median(frac2)\n",
    "quart21 = np.quantile(frac2,0.25)\n",
    "quart22 = np.quantile(frac2,0.75)"
   ]
  },
  {
   "cell_type": "code",
   "execution_count": null,
   "metadata": {},
   "outputs": [],
   "source": [
    "plt.figure(figsize=(7,7))\n",
    "plt.title('Red fraction for non fossil groups')\n",
    "\n",
    "plt.ylabel('N')\n",
    "plt.xlabel('Red fraction for each group')\n",
    "plt.hist(frac2, bins=20, color = \"red\", rwidth=0.9)\n",
    "plt.axvline(linea2, color='black')\n",
    "plt.axvline(quart21, color='black', linestyle = '--')\n",
    "plt.axvline(quart22, color='black', linestyle = '--')\n",
    "\n",
    "plt.savefig('NFredfractionhist.jpg')"
   ]
  },
  {
   "cell_type": "code",
   "execution_count": null,
   "metadata": {},
   "outputs": [],
   "source": [
    "#characterisize the virial radius\n",
    "rcrit = halos['Group_R_Crit200'][nonfossil]\n",
    "linea3 = np.median(rcrit)\n",
    "quart31 = np.quantile(rcrit,0.25)\n",
    "quart32 = np.quantile(rcrit,0.75)"
   ]
  },
  {
   "cell_type": "code",
   "execution_count": null,
   "metadata": {},
   "outputs": [],
   "source": [
    "plt.figure(figsize=(7,7))\n",
    "plt.title('$R_{200}$ for non fossil groups')\n",
    "\n",
    "plt.ylabel('N')\n",
    "plt.xlabel('$R_{200}$ for each group')\n",
    "plt.hist(rcrit, bins=20, color = \"purple\", rwidth=0.9)\n",
    "plt.axvline(linea3, color='black')\n",
    "plt.axvline(quart31, color='black', linestyle = '--')\n",
    "plt.axvline(quart32, color='black', linestyle = '--')\n",
    "\n",
    "plt.savefig('NFr200.jpg')\n",
    "#make a median for a reference and dashed line with the quartils "
   ]
  },
  {
   "cell_type": "code",
   "execution_count": null,
   "metadata": {},
   "outputs": [],
   "source": [
    "r_red = []\n",
    "r_blue = []\n",
    "for i in range(len(frac2)):\n",
    "    #red\n",
    "    if quart21<frac2[i]<quart22 and rcrit[i]<quart32:\n",
    "        r_red.append(nonfossil[i])\n",
    "    #blue\n",
    "    elif quart11<frac1[i]<quart12 and rcrit[i]<quart32:\n",
    "        r_blue.append(nonfossil[i])\n",
    "        "
   ]
  },
  {
   "cell_type": "code",
   "execution_count": null,
   "metadata": {},
   "outputs": [],
   "source": [
    "print(r_red)\n",
    "print(f'los grupos que tienen un r200 menor a {quart32} y una fraccion de rojas entre {quart21} y {quart22} son {len(r_red)}')\n",
    "print(r_blue)\n",
    "print(f'los grupos que tienen un r200 menor a {quart32} y una fraccion de azules entre {quart11} y {quart12} son {len(r_blue)}')"
   ]
  },
  {
   "cell_type": "code",
   "execution_count": null,
   "metadata": {},
   "outputs": [],
   "source": [
    "#m200 sobre r200\n",
    "mass = []\n",
    "radio = []\n",
    "for i in range(len(nonfossil)):\n",
    "    mass.append(np.log10(halos['Group_M_Crit200'][nonfossil[i]]/0.6774)+10)\n",
    "    radio.append(halos['Group_R_Crit200'][nonfossil[i]])"
   ]
  },
  {
   "cell_type": "code",
   "execution_count": null,
   "metadata": {},
   "outputs": [],
   "source": [
    "plt.figure(figsize=(7,7))\n",
    "plt.title('$M_{200}$ vs $R_{200}$ for non fossil groups')\n",
    "\n",
    "#xy = np.vstack([radio,frac2])\n",
    "z = frac2\n",
    "\n",
    "plt.ylabel('log $M_{200}$')\n",
    "plt.xlabel('$R_{200}$')\n",
    "plt.grid()\n",
    "plt.scatter(radio, mass, c=z, s=100, cmap='jet')\n",
    "plt.colorbar(label='Red fraction of the groups')\n",
    "plt.savefig('NFcolors.jpg')"
   ]
  }
 ],
 "metadata": {
  "kernelspec": {
   "display_name": "Python 3",
   "language": "python",
   "name": "python3"
  },
  "language_info": {
   "codemirror_mode": {
    "name": "ipython",
    "version": 3
   },
   "file_extension": ".py",
   "mimetype": "text/x-python",
   "name": "python",
   "nbconvert_exporter": "python",
   "pygments_lexer": "ipython3",
   "version": "3.6.7"
  }
 },
 "nbformat": 4,
 "nbformat_minor": 2
}
